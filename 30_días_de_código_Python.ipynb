{
  "cells": [
    {
      "cell_type": "markdown",
      "metadata": {
        "id": "view-in-github",
        "colab_type": "text"
      },
      "source": [
        "<a href=\"https://colab.research.google.com/github/Carlos-Angul0/ExercisesHackerRank/blob/main/30_d%C3%ADas_de_c%C3%B3digo_Python.ipynb\" target=\"_parent\"><img src=\"https://colab.research.google.com/assets/colab-badge.svg\" alt=\"Open In Colab\"/></a>"
      ]
    },
    {
      "cell_type": "markdown",
      "source": [
        "#***30 días de código Python***\n",
        "---\n",
        "***Ejercicios de la plataforma [HackerRank][link].***\n",
        "\n",
        "[link]: https://www.hackerrank.com/dashboard"
      ],
      "metadata": {
        "id": "XFPyiMW_9zRc"
      }
    },
    {
      "cell_type": "markdown",
      "source": [
        "###**Ejercicio 3**###\n",
        "**Objetivo**\n",
        "\n",
        "En este desafío, trabajarás con operadores aritméticos.\n",
        "\n",
        "**Tarea**\n",
        "\n",
        "Dado el precio de la comida (costo base de una comida), el porcentaje de propina (el porcentaje del precio de la comida que se agrega como propina) y el porcentaje de impuestos (el porcentaje del precio de la comida que se agrega como impuesto) para una comida, busque e imprima el costo total de la comida . Redondea el resultado al entero más cercano.\n",
        "\n",
        "**Ejemplo**\n",
        "\n",
        "\n",
        "\n",
        "Una propina de 15% * 100 = 15, y los impuestos son 8% * 100 = 8. Imprime el valor y regreso de la función.\n",
        "\n",
        "**Descripción de la función**\n",
        "\n",
        "solve tiene los siguientes parámetros:\n",
        "\n",
        "int **meal_cost**: el costo de los alimentos antes de propinas e impuestos\n",
        "\n",
        "int **tip_percent**: el porcentaje de propina\n",
        "\n",
        "int **tax_percent**: el porcentaje de impuestos\n",
        "\n",
        "Devoluciones (return) La función no devuelve nada. \n",
        "\n",
        "Imprime el valor calculado, redondeado al entero más cercano.\n",
        "\n",
        "Nota: asegúrese de usar valores precisos para sus cálculos, o puede terminar con un resultado redondeado incorrectamente.\n",
        "\n",
        "**Formato de entrada**\n",
        "\n",
        "Existen líneas de entrada numérica:\n",
        "\n",
        "La primera línea tiene un doble,(el costo de la comida antes de impuestos y propina).\n",
        "\n",
        "La segunda línea tiene un número entero,(El porcentaje desiendo añadido como propina).\n",
        "\n",
        "La tercera línea tiene un número entero,(El porcentaje desiendo agregado como impuesto).\n",
        "\n",
        "\n",
        "**Entrada de muestra**\n",
        "\n",
        "12.00\n",
        "\n",
        "20\n",
        "\n",
        "8\n",
        "\n",
        "**Salida de muestra**\n",
        "\n",
        "15\n",
        "\n",
        "![Explicaión.png](data:image/png;base64,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)"
      ],
      "metadata": {
        "id": "Eami1TcwTzE1"
      }
    },
    {
      "cell_type": "code",
      "source": [
        "# 'solve' function.\n",
        "\n",
        "def solve(meal_cost, tip_percent, tax_percent):\n",
        "    # Write your code here\n",
        "    tip_percent= meal_cost/100*tip_percent\n",
        "    tax_percent = meal_cost/100*tax_percent\n",
        "    total=meal_cost+tip_percent+tax_percent\n",
        "    return round(total)\n",
        "\n",
        "if __name__ == '__main__':\n",
        "    meal_cost = float(input(\"Ingrese costo de la comida \").strip())\n",
        "\n",
        "    tip_percent = int(input(\"Ingrese porcentaje de la propina \").strip())\n",
        "\n",
        "    tax_percent = int(input(\"Ingrese porcentaje del impuesto \").strip())\n",
        "    \n",
        "\n",
        "    print(\"\\nEl costo total de la comida es \", solve(meal_cost, tip_percent, tax_percent))\n"
      ],
      "metadata": {
        "id": "nvbyI9Ag2bfX",
        "outputId": "44e2db52-d135-45c9-f2ec-0a09146213e3",
        "colab": {
          "base_uri": "https://localhost:8080/"
        }
      },
      "execution_count": 24,
      "outputs": [
        {
          "output_type": "stream",
          "name": "stdout",
          "text": [
            "Ingrese costo de la comida 30.050\n",
            "Ingrese porcentaje de la propina 10\n",
            "Ingrese porcentaje del impuesto 5\n",
            "\n",
            "El costo total de la comida es  35\n"
          ]
        }
      ]
    },
    {
      "cell_type": "markdown",
      "source": [
        "###**Ejercicio 4**###\n",
        "**Objetivo**\n",
        "\n",
        "En este desafío, aprendemos sobre declaraciones condicionales.\n",
        "\n",
        "**Tarea**\n",
        "\n",
        "Dado un número entero, realice las siguientes acciones condicionales:\n",
        "\n",
        "- Si es impar, imprimir ***Weird***\n",
        "\n",
        "- Si es par y en el rango inclusivo de 2 a 5, impresión ***Not Weird***\n",
        "\n",
        "- Si es par y en el rango inclusivo de 6 a 20, impresión ***Weird***\n",
        "\n",
        "- Si es par y mayor que 20, impresión ***Not Weird***\n",
        "\n",
        "**Formato de entrada**\n",
        "\n",
        "Una sola línea que contiene un número entero positivo.\n",
        "\n",
        "**Restricciones**\n",
        "- 1 <= N <= 100\n",
        "\n",
        "**Formato de salida**\n",
        "\n",
        "Imprima Weird si el número es extraño; de lo contrario, imprima Not Weird.\n",
        "\n",
        "![4.png](data:image/png;base64,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)"
      ],
      "metadata": {
        "id": "tOmi6OvETXD7"
      }
    },
    {
      "cell_type": "code",
      "source": [
        "#Import library.\n",
        "#!/bin/python3\n",
        "\n",
        "import math\n",
        "import os\n",
        "import random\n",
        "import re\n",
        "import sys"
      ],
      "metadata": {
        "id": "Uul2l2VF2QLA"
      },
      "execution_count": null,
      "outputs": []
    },
    {
      "cell_type": "code",
      "source": [
        "#Function\n",
        "#!/bin/python3\n",
        "\n",
        "if __name__ == '__main__':\n",
        "    N = int(input(\"Número: \").strip())"
      ],
      "metadata": {
        "colab": {
          "base_uri": "https://localhost:8080/"
        },
        "id": "ywddUheRc2k2",
        "outputId": "b35cabea-c377-4b83-91cc-a8a380f991dd"
      },
      "execution_count": 31,
      "outputs": [
        {
          "name": "stdout",
          "output_type": "stream",
          "text": [
            "Número: 30\n"
          ]
        }
      ]
    },
    {
      "cell_type": "code",
      "source": [
        "if 1 <= N <= 100:\n",
        "  if N %2 == 1:\n",
        "    print(\"Es impar 'Weird'.\")\n",
        "  elif 2 <= N <= 5:\n",
        "    print(\"Es par y en el rango inclusivo 2 a 5 'Not Weir'.\")\n",
        "  elif 6 <= N <= 20:\n",
        "    print(\"Es par y en el rango inclusivo 6 a 20 'Weird'.\")\n",
        "  else:\n",
        "    print(\"Es par y mayor que 20 'Not Weird'.\")\n",
        "else:\n",
        "  print(\"El número\", N ,\"no está permitido por la restricción.\")\n",
        "\n",
        "  "
      ],
      "metadata": {
        "colab": {
          "base_uri": "https://localhost:8080/"
        },
        "id": "RGzYp1kZfAmt",
        "outputId": "976216bd-ae43-4b03-c78b-05c2c220326f"
      },
      "execution_count": 32,
      "outputs": [
        {
          "output_type": "stream",
          "name": "stdout",
          "text": [
            "Es par y mayor que 20 'Not Weird'.\n"
          ]
        }
      ]
    }
  ],
  "metadata": {
    "colab": {
      "collapsed_sections": [],
      "name": "30 días de código Python",
      "provenance": [],
      "include_colab_link": true
    },
    "kernelspec": {
      "display_name": "Python 3",
      "name": "python3"
    }
  },
  "nbformat": 4,
  "nbformat_minor": 0
}